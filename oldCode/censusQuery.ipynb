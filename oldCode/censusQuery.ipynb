{
 "cells": [
  {
   "cell_type": "code",
   "execution_count": 11,
   "metadata": {},
   "outputs": [],
   "source": [
    "# Import dependencies\n",
    "import pandas as pd\n",
    "import numpy as np\n",
    "from bs4 import BeautifulSoup\n",
    "from urllib.request import urlopen\n",
    "from io import StringIO"
   ]
  },
  {
   "cell_type": "markdown",
   "metadata": {},
   "source": [
    "# Initiate Variables"
   ]
  },
  {
   "cell_type": "code",
   "execution_count": 12,
   "metadata": {},
   "outputs": [],
   "source": [
    "##### Initiate Global Variables\n",
    "### API key for census website\n",
    "\n",
    "# api key --> somewhere in census website, email & they send an api key\n",
    "# don't put api keys on github\n",
    "# webscrapers out there, public thing, expose api key\n",
    "# code is along the lines of --> MY_API_KEY = os.environ.get(\"MY_API_KEY\")\n",
    "MY_API_KEY = \"xxx\"\n",
    "\n",
    "# go into conda environment, create an environment variable -- myapikey = long string of text\n",
    "### Timeframes\n",
    "CURRENT_YEAR = \"2020\"\n",
    "\n",
    "### Geographic codes\n",
    "# States\n",
    "TEXAS = \"48\"\n",
    "# Counties\n",
    "HARRIS = \"201\"\n",
    "FORTBEND = \"157\"\n",
    "# Neighborhoods\n",
    "ALL = \"*\"\n"
   ]
  },
  {
   "cell_type": "code",
   "execution_count": 13,
   "metadata": {},
   "outputs": [],
   "source": [
    "# zipcodes\n",
    "\n",
    "# Get lists of zip codes\n",
    "# Harris County\n",
    "HarrisZips = pd.read_csv('/Users/emmali/Desktop/Community_Bridges/BakerRipley/Census_Data_Mapping/CensusMapping/definitions/HarrisZips.csv')\n",
    "HarrisZips['zipCode'] = HarrisZips['zipCode'].astype('str')\n",
    "HarrisZips = \",\".join(HarrisZips['zipCode'])\n",
    "\n",
    "# Ft Bend County\n",
    "FtBendZips = pd.read_csv('/Users/emmali/Desktop/Community_Bridges/BakerRipley/Census_Data_Mapping/CensusMapping/definitions/FtBendZips.csv')\n",
    "FtBendZips['zipCode'] = FtBendZips['zipCode'].astype('str')\n",
    "FtBendZips = \",\".join(FtBendZips['zipCode'])"
   ]
  },
  {
   "cell_type": "markdown",
   "metadata": {},
   "source": [
    "# Define Functions"
   ]
  },
  {
   "cell_type": "code",
   "execution_count": 14,
   "metadata": {},
   "outputs": [],
   "source": [
    "def buildTableCodes(variables_toquery, entireTable):\n",
    "    # If you are querying an entire table then mark entireTable=True\n",
    "    # If you are querying at the variable level then mark entireTable=False\n",
    "    # Define dictionary of tableCodes and tableTypes \n",
    "    tableDict = {\n",
    "        \"D\":\"/profile\",\n",
    "        \"S\":\"/subject\",\n",
    "        \"B\":\"\"\n",
    "    }\n",
    "    # Find the tableTypes the user is requesting\n",
    "    tableList = set([variables_toquery[i][0] for i in range(len(variables_toquery))])\n",
    "\n",
    "    # If the query is for specific variables, generate the dictionary this way:\n",
    "    if entireTable:\n",
    "        # Find the variables that fall under each tableCode\n",
    "        tableCodes = {\n",
    "            x:{\n",
    "                # Get the tableType from the tableDict\n",
    "                \"tableType\":tableDict[x], \n",
    "                # Join the tableVariables together in a string\n",
    "                \"tableVariables\":{\n",
    "                    # Get the list of tableVariables for that tableType\n",
    "                    (\"group(\" + variables_toquery[i] + \")\") for i in range(len(variables_toquery)) if variables_toquery[i][0]==x\n",
    "                }\n",
    "            } for x in tableList\n",
    "        }\n",
    "\n",
    "    # If the query is for specific variables, generate the dictionary this way:\n",
    "    else:\n",
    "        # Find the variables that fall under each tableCode\n",
    "        tableCodes = {\n",
    "            x:{\n",
    "                # Get the tableType from the tableDict\n",
    "                \"tableType\":tableDict[x], \n",
    "                # Join the tableVariables together in a string\n",
    "                \"tableVariables\":\"GEO_ID,\" + \"NAME,\" + \",\".join({\n",
    "                    # Get the list of tableVariables for that tableType\n",
    "                    variables_toquery[i] for i in range(len(variables_toquery)) if variables_toquery[i][0]==x\n",
    "                })\n",
    "            } for x in tableList\n",
    "        }\n",
    "\n",
    "    return tableCodes"
   ]
  },
  {
   "cell_type": "code",
   "execution_count": 5,
   "metadata": {},
   "outputs": [],
   "source": [
    "def parseCensus(url):\n",
    "    # Use BeautifulSoup to parse html and find the document text\n",
    "    page = urlopen(url)\n",
    "    html = page.read().decode(\"utf-8\")\n",
    "    soup = BeautifulSoup(html, \"html.parser\")\n",
    "    censusData = soup.get_text()\n",
    "    \n",
    "    # Clean data by removing brackets\n",
    "    censusData = censusData.replace(\"[\", \"\")\n",
    "    censusData = censusData.replace(\"]\", \"\")\n",
    "\n",
    "    # Create dataframe from string data\n",
    "    censusData = pd.read_csv(StringIO(censusData), sep=\",\")\n",
    "    return censusData"
   ]
  },
  {
   "cell_type": "code",
   "execution_count": 6,
   "metadata": {},
   "outputs": [],
   "source": [
    "# we're gonna use tracts, zipcodes don't align directly with neighborhood definitions, are larger\n",
    "\n",
    "def fetchCensusTracts(year, state, county, tractList, variables_toquery, entireTable, apiKey):\n",
    "    # If you are querying an entire table then mark entireTable=True\n",
    "    # If you are querying at the variable level then mark entireTable=False\n",
    "    # Create empty df to hold the data\n",
    "    censusData = pd.DataFrame(columns=['GEO_ID', 'NAME', 'state', 'county', 'tract'])\n",
    "    # Generate dictionary of table codes, table types, and census variables\n",
    "    tableCodes = buildTableCodes(variables_toquery, entireTable)\n",
    "    # Check if the query is for full tables\n",
    "    if entireTable:\n",
    "        for code in tableCodes.values():\n",
    "            # Find the tableType and tableVariable for that type of table\n",
    "            tableType = code[\"tableType\"]\n",
    "            # Loop over the tables because the census API will not let you query multiple tables\n",
    "            for tableVariables in code[\"tableVariables\"]:\n",
    "                # Build a url specific to each tableType\n",
    "                url = f'https://api.census.gov/data/{year}/acs/acs5{tableType}?key={apiKey}&in=state:{state}%20county:{county}&for=tract:{tractList}&get={tableVariables}'\n",
    "                # Parse the data returned from the census API\n",
    "                tableData = parseCensus(url)    \n",
    "                # Drop final column which is empty\n",
    "                tableData = tableData.drop(tableData.columns[-1], axis=1)\n",
    "                # Merge each iteration of tableData into the full censusData\n",
    "                censusData = censusData.merge(tableData, how=\"outer\", on=['GEO_ID', 'NAME', 'state', 'county', 'tract'])\n",
    "    # If the query is for individual variables\n",
    "    else:\n",
    "        # Loop over the types of tables\n",
    "        for code in tableCodes.values():\n",
    "            # Find the tableType and tableVariable for that type of table\n",
    "            tableType = code[\"tableType\"]\n",
    "            tableVariables = code[\"tableVariables\"]\n",
    "            # Build a url specific to each tableType\n",
    "            url = f'https://api.census.gov/data/{year}/acs/acs5{tableType}?key={apiKey}&in=state:{state}%20county:{county}&for=tract:{tractList}&get={tableVariables}'\n",
    "            # Parse the data returned from the census API\n",
    "            tableData = parseCensus(url)    \n",
    "            # Drop final column which is empty\n",
    "            tableData = tableData.drop(tableData.columns[-1], axis=1)\n",
    "            # Merge each iteration of tableData into the full censusData\n",
    "            censusData = censusData.merge(tableData, how=\"outer\", on=['GEO_ID', 'NAME', 'state', 'county', 'tract'])\n",
    "    # Reorder the columns to make it easier to read\n",
    "    censusData.insert(0, 'tract', censusData.pop('tract'))\n",
    "    censusData.insert(0, 'county', censusData.pop('county'))\n",
    "    censusData.insert(0, 'state', censusData.pop('state'))\n",
    "    censusData.insert(0, 'NAME', censusData.pop('NAME'))\n",
    "    censusData.insert(0, 'GEO_ID', censusData.pop('GEO_ID'))\n",
    "\n",
    "    # Clean the GEO_ID column so it matches census shapefiles\n",
    "    censusData['GEO_ID'] = censusData['GEO_ID'].astype('string')\n",
    "    censusData['GEO_ID'] = censusData['GEO_ID'].str.replace(\"1400000US\", \"\")\n",
    "    return censusData"
   ]
  },
  {
   "cell_type": "code",
   "execution_count": 7,
   "metadata": {},
   "outputs": [],
   "source": [
    "def fetchCensusZips(year, zipList, variables_toquery, entireTable, apiKey):\n",
    "    # If you are querying an entire table then mark entireTable=True\n",
    "    # If you are querying at the variable level then mark entireTable=False\n",
    "    # Create empty df to hold the data\n",
    "    censusData = pd.DataFrame(columns=['GEO_ID', 'NAME', 'zip code tabulation area'])\n",
    "    # Generate dictionary of table codes, table types, and census variables\n",
    "    tableCodes = buildTableCodes(variables_toquery, entireTable)\n",
    "    # Check if the query is for full tables\n",
    "    if entireTable:\n",
    "        for code in tableCodes.values():\n",
    "            # Find the tableType and tableVariable for that type of table\n",
    "            tableType = code[\"tableType\"]\n",
    "            # Loop over the tables because the census API will not let you query multiple tables\n",
    "            for tableVariables in code[\"tableVariables\"]:\n",
    "                # Build a url specific to each tableType\n",
    "                url = f'https://api.census.gov/data/{year}/acs/acs5{tableType}?key={apiKey}&for=zip%20code%20tabulation%20area:{zipList}&get={tableVariables}'\n",
    "                # Parse the data returned from the census API\n",
    "                tableData = parseCensus(url)    \n",
    "                # Drop final column which is empty\n",
    "                tableData = tableData.drop(tableData.columns[-1], axis=1)\n",
    "                # Merge each iteration of tableData into the full censusData\n",
    "                censusData = censusData.merge(tableData, how=\"outer\", on=['GEO_ID', 'NAME', 'zip code tabulation area'])\n",
    "    # If the query is for individual variables\n",
    "    else:\n",
    "        # Loop over the types of tables\n",
    "        for code in tableCodes.values():\n",
    "            # Find the tableType and tableVariable for that type of table\n",
    "            tableType = code[\"tableType\"]\n",
    "            tableVariables = code[\"tableVariables\"]\n",
    "            # Build a url specific to each tableType\n",
    "            url = f'https://api.census.gov/data/{year}/acs/acs5{tableType}?key={apiKey}&for=zip%20code%20tabulation%20area:{zipList}&get={tableVariables}'\n",
    "            # Parse the data returned from the census API\n",
    "            tableData = parseCensus(url)    \n",
    "            # Drop final column which is empty\n",
    "            tableData = tableData.drop(tableData.columns[-1], axis=1)\n",
    "            # Merge each iteration of tableData into the full censusData\n",
    "            censusData = censusData.merge(tableData, how=\"outer\", on=['GEO_ID', 'NAME', 'zip code tabulation area'])\n",
    "    # Reorder the columns to make it easier to read\n",
    "    censusData.insert(0, 'zip code tabulation area', censusData.pop('zip code tabulation area'))\n",
    "    censusData.insert(0, 'NAME', censusData.pop('NAME'))\n",
    "    censusData.insert(0, 'GEO_ID', censusData.pop('GEO_ID'))\n",
    "\n",
    "    # Clean the GEO_ID column so it matches census shapefiles\n",
    "    censusData['GEO_ID'] = censusData['GEO_ID'].astype('string')\n",
    "    censusData['GEO_ID'] = censusData['GEO_ID'].str.replace(\"8600000US\", \"\")\n",
    "\n",
    "    # Limit to texas zip codes\n",
    "    censusData = censusData.loc[(censusData['zip code tabulation area']>=77000) & (censusData['zip code tabulation area']<78000)]\n",
    "    return censusData"
   ]
  },
  {
   "cell_type": "markdown",
   "metadata": {},
   "source": [
    "# Test functions"
   ]
  },
  {
   "cell_type": "code",
   "execution_count": 8,
   "metadata": {},
   "outputs": [
    {
     "ename": "ParserError",
     "evalue": "Error tokenizing data. C error: Expected 1 fields in line 9, saw 3\n",
     "output_type": "error",
     "traceback": [
      "\u001b[0;31m---------------------------------------------------------------------------\u001b[0m",
      "\u001b[0;31mParserError\u001b[0m                               Traceback (most recent call last)",
      "Input \u001b[0;32mIn [8]\u001b[0m, in \u001b[0;36m<cell line: 18>\u001b[0;34m()\u001b[0m\n\u001b[1;32m     10\u001b[0m entireTable \u001b[38;5;241m=\u001b[39m \u001b[38;5;28;01mFalse\u001b[39;00m\n\u001b[1;32m     11\u001b[0m variables_toquery \u001b[38;5;241m=\u001b[39m [\n\u001b[1;32m     12\u001b[0m     \u001b[38;5;124m'\u001b[39m\u001b[38;5;124mDP05_0005E\u001b[39m\u001b[38;5;124m'\u001b[39m,\u001b[38;5;124m'\u001b[39m\u001b[38;5;124mDP05_0001E\u001b[39m\u001b[38;5;124m'\u001b[39m,\u001b[38;5;124m'\u001b[39m\u001b[38;5;124mDP03_0062E\u001b[39m\u001b[38;5;124m'\u001b[39m,\n\u001b[1;32m     13\u001b[0m     \u001b[38;5;124m'\u001b[39m\u001b[38;5;124mS1701_C02_001E\u001b[39m\u001b[38;5;124m'\u001b[39m,\u001b[38;5;124m'\u001b[39m\u001b[38;5;124mS1701_C01_001E\u001b[39m\u001b[38;5;124m'\u001b[39m,\n\u001b[1;32m     14\u001b[0m     \u001b[38;5;124m'\u001b[39m\u001b[38;5;124mB14006_004E\u001b[39m\u001b[38;5;124m'\u001b[39m,\u001b[38;5;124m'\u001b[39m\u001b[38;5;124mB14006_005E\u001b[39m\u001b[38;5;124m'\u001b[39m,\u001b[38;5;124m'\u001b[39m\u001b[38;5;124mB14006_006E\u001b[39m\u001b[38;5;124m'\u001b[39m,\n\u001b[1;32m     15\u001b[0m     \u001b[38;5;124m'\u001b[39m\u001b[38;5;124mB17020_001E\u001b[39m\u001b[38;5;124m'\u001b[39m,\u001b[38;5;124m'\u001b[39m\u001b[38;5;124mB17020_003E\u001b[39m\u001b[38;5;124m'\u001b[39m, \u001b[38;5;124m'\u001b[39m\u001b[38;5;124mB17020_004E\u001b[39m\u001b[38;5;124m'\u001b[39m\n\u001b[1;32m     16\u001b[0m ]\n\u001b[0;32m---> 18\u001b[0m DataRequest_ECE_Zips \u001b[38;5;241m=\u001b[39m \u001b[43mfetchCensusZips\u001b[49m\u001b[43m(\u001b[49m\u001b[43myear\u001b[49m\u001b[43m,\u001b[49m\u001b[43m \u001b[49m\u001b[43mzipList\u001b[49m\u001b[43m,\u001b[49m\u001b[43m \u001b[49m\u001b[43mvariables_toquery\u001b[49m\u001b[43m,\u001b[49m\u001b[43m \u001b[49m\u001b[43mentireTable\u001b[49m\u001b[43m,\u001b[49m\u001b[43m \u001b[49m\u001b[43mapiKey\u001b[49m\u001b[43m)\u001b[49m\n\u001b[1;32m     19\u001b[0m DataRequest_ECE_Zips\u001b[38;5;241m.\u001b[39mhead()\n",
      "Input \u001b[0;32mIn [7]\u001b[0m, in \u001b[0;36mfetchCensusZips\u001b[0;34m(year, zipList, variables_toquery, entireTable, apiKey)\u001b[0m\n\u001b[1;32m     31\u001b[0m url \u001b[38;5;241m=\u001b[39m \u001b[38;5;124mf\u001b[39m\u001b[38;5;124m'\u001b[39m\u001b[38;5;124mhttps://api.census.gov/data/\u001b[39m\u001b[38;5;132;01m{\u001b[39;00myear\u001b[38;5;132;01m}\u001b[39;00m\u001b[38;5;124m/acs/acs5\u001b[39m\u001b[38;5;132;01m{\u001b[39;00mtableType\u001b[38;5;132;01m}\u001b[39;00m\u001b[38;5;124m?key=\u001b[39m\u001b[38;5;132;01m{\u001b[39;00mapiKey\u001b[38;5;132;01m}\u001b[39;00m\u001b[38;5;124m&for=zip%20code%20tabulation%20area:\u001b[39m\u001b[38;5;132;01m{\u001b[39;00mzipList\u001b[38;5;132;01m}\u001b[39;00m\u001b[38;5;124m&get=\u001b[39m\u001b[38;5;132;01m{\u001b[39;00mtableVariables\u001b[38;5;132;01m}\u001b[39;00m\u001b[38;5;124m'\u001b[39m\n\u001b[1;32m     32\u001b[0m \u001b[38;5;66;03m# Parse the data returned from the census API\u001b[39;00m\n\u001b[0;32m---> 33\u001b[0m tableData \u001b[38;5;241m=\u001b[39m \u001b[43mparseCensus\u001b[49m\u001b[43m(\u001b[49m\u001b[43murl\u001b[49m\u001b[43m)\u001b[49m    \n\u001b[1;32m     34\u001b[0m \u001b[38;5;66;03m# Drop final column which is empty\u001b[39;00m\n\u001b[1;32m     35\u001b[0m tableData \u001b[38;5;241m=\u001b[39m tableData\u001b[38;5;241m.\u001b[39mdrop(tableData\u001b[38;5;241m.\u001b[39mcolumns[\u001b[38;5;241m-\u001b[39m\u001b[38;5;241m1\u001b[39m], axis\u001b[38;5;241m=\u001b[39m\u001b[38;5;241m1\u001b[39m)\n",
      "Input \u001b[0;32mIn [5]\u001b[0m, in \u001b[0;36mparseCensus\u001b[0;34m(url)\u001b[0m\n\u001b[1;32m     10\u001b[0m censusData \u001b[38;5;241m=\u001b[39m censusData\u001b[38;5;241m.\u001b[39mreplace(\u001b[38;5;124m\"\u001b[39m\u001b[38;5;124m]\u001b[39m\u001b[38;5;124m\"\u001b[39m, \u001b[38;5;124m\"\u001b[39m\u001b[38;5;124m\"\u001b[39m)\n\u001b[1;32m     12\u001b[0m \u001b[38;5;66;03m# Create dataframe from string data\u001b[39;00m\n\u001b[0;32m---> 13\u001b[0m censusData \u001b[38;5;241m=\u001b[39m \u001b[43mpd\u001b[49m\u001b[38;5;241;43m.\u001b[39;49m\u001b[43mread_csv\u001b[49m\u001b[43m(\u001b[49m\u001b[43mStringIO\u001b[49m\u001b[43m(\u001b[49m\u001b[43mcensusData\u001b[49m\u001b[43m)\u001b[49m\u001b[43m,\u001b[49m\u001b[43m \u001b[49m\u001b[43msep\u001b[49m\u001b[38;5;241;43m=\u001b[39;49m\u001b[38;5;124;43m\"\u001b[39;49m\u001b[38;5;124;43m,\u001b[39;49m\u001b[38;5;124;43m\"\u001b[39;49m\u001b[43m)\u001b[49m\n\u001b[1;32m     14\u001b[0m \u001b[38;5;28;01mreturn\u001b[39;00m censusData\n",
      "File \u001b[0;32m/opt/homebrew/anaconda3/lib/python3.9/site-packages/pandas/util/_decorators.py:311\u001b[0m, in \u001b[0;36mdeprecate_nonkeyword_arguments.<locals>.decorate.<locals>.wrapper\u001b[0;34m(*args, **kwargs)\u001b[0m\n\u001b[1;32m    305\u001b[0m \u001b[38;5;28;01mif\u001b[39;00m \u001b[38;5;28mlen\u001b[39m(args) \u001b[38;5;241m>\u001b[39m num_allow_args:\n\u001b[1;32m    306\u001b[0m     warnings\u001b[38;5;241m.\u001b[39mwarn(\n\u001b[1;32m    307\u001b[0m         msg\u001b[38;5;241m.\u001b[39mformat(arguments\u001b[38;5;241m=\u001b[39marguments),\n\u001b[1;32m    308\u001b[0m         \u001b[38;5;167;01mFutureWarning\u001b[39;00m,\n\u001b[1;32m    309\u001b[0m         stacklevel\u001b[38;5;241m=\u001b[39mstacklevel,\n\u001b[1;32m    310\u001b[0m     )\n\u001b[0;32m--> 311\u001b[0m \u001b[38;5;28;01mreturn\u001b[39;00m \u001b[43mfunc\u001b[49m\u001b[43m(\u001b[49m\u001b[38;5;241;43m*\u001b[39;49m\u001b[43margs\u001b[49m\u001b[43m,\u001b[49m\u001b[43m \u001b[49m\u001b[38;5;241;43m*\u001b[39;49m\u001b[38;5;241;43m*\u001b[39;49m\u001b[43mkwargs\u001b[49m\u001b[43m)\u001b[49m\n",
      "File \u001b[0;32m/opt/homebrew/anaconda3/lib/python3.9/site-packages/pandas/io/parsers/readers.py:678\u001b[0m, in \u001b[0;36mread_csv\u001b[0;34m(filepath_or_buffer, sep, delimiter, header, names, index_col, usecols, squeeze, prefix, mangle_dupe_cols, dtype, engine, converters, true_values, false_values, skipinitialspace, skiprows, skipfooter, nrows, na_values, keep_default_na, na_filter, verbose, skip_blank_lines, parse_dates, infer_datetime_format, keep_date_col, date_parser, dayfirst, cache_dates, iterator, chunksize, compression, thousands, decimal, lineterminator, quotechar, quoting, doublequote, escapechar, comment, encoding, encoding_errors, dialect, error_bad_lines, warn_bad_lines, on_bad_lines, delim_whitespace, low_memory, memory_map, float_precision, storage_options)\u001b[0m\n\u001b[1;32m    663\u001b[0m kwds_defaults \u001b[38;5;241m=\u001b[39m _refine_defaults_read(\n\u001b[1;32m    664\u001b[0m     dialect,\n\u001b[1;32m    665\u001b[0m     delimiter,\n\u001b[0;32m   (...)\u001b[0m\n\u001b[1;32m    674\u001b[0m     defaults\u001b[38;5;241m=\u001b[39m{\u001b[38;5;124m\"\u001b[39m\u001b[38;5;124mdelimiter\u001b[39m\u001b[38;5;124m\"\u001b[39m: \u001b[38;5;124m\"\u001b[39m\u001b[38;5;124m,\u001b[39m\u001b[38;5;124m\"\u001b[39m},\n\u001b[1;32m    675\u001b[0m )\n\u001b[1;32m    676\u001b[0m kwds\u001b[38;5;241m.\u001b[39mupdate(kwds_defaults)\n\u001b[0;32m--> 678\u001b[0m \u001b[38;5;28;01mreturn\u001b[39;00m \u001b[43m_read\u001b[49m\u001b[43m(\u001b[49m\u001b[43mfilepath_or_buffer\u001b[49m\u001b[43m,\u001b[49m\u001b[43m \u001b[49m\u001b[43mkwds\u001b[49m\u001b[43m)\u001b[49m\n",
      "File \u001b[0;32m/opt/homebrew/anaconda3/lib/python3.9/site-packages/pandas/io/parsers/readers.py:581\u001b[0m, in \u001b[0;36m_read\u001b[0;34m(filepath_or_buffer, kwds)\u001b[0m\n\u001b[1;32m    578\u001b[0m     \u001b[38;5;28;01mreturn\u001b[39;00m parser\n\u001b[1;32m    580\u001b[0m \u001b[38;5;28;01mwith\u001b[39;00m parser:\n\u001b[0;32m--> 581\u001b[0m     \u001b[38;5;28;01mreturn\u001b[39;00m \u001b[43mparser\u001b[49m\u001b[38;5;241;43m.\u001b[39;49m\u001b[43mread\u001b[49m\u001b[43m(\u001b[49m\u001b[43mnrows\u001b[49m\u001b[43m)\u001b[49m\n",
      "File \u001b[0;32m/opt/homebrew/anaconda3/lib/python3.9/site-packages/pandas/io/parsers/readers.py:1253\u001b[0m, in \u001b[0;36mTextFileReader.read\u001b[0;34m(self, nrows)\u001b[0m\n\u001b[1;32m   1251\u001b[0m nrows \u001b[38;5;241m=\u001b[39m validate_integer(\u001b[38;5;124m\"\u001b[39m\u001b[38;5;124mnrows\u001b[39m\u001b[38;5;124m\"\u001b[39m, nrows)\n\u001b[1;32m   1252\u001b[0m \u001b[38;5;28;01mtry\u001b[39;00m:\n\u001b[0;32m-> 1253\u001b[0m     index, columns, col_dict \u001b[38;5;241m=\u001b[39m \u001b[38;5;28;43mself\u001b[39;49m\u001b[38;5;241;43m.\u001b[39;49m\u001b[43m_engine\u001b[49m\u001b[38;5;241;43m.\u001b[39;49m\u001b[43mread\u001b[49m\u001b[43m(\u001b[49m\u001b[43mnrows\u001b[49m\u001b[43m)\u001b[49m\n\u001b[1;32m   1254\u001b[0m \u001b[38;5;28;01mexcept\u001b[39;00m \u001b[38;5;167;01mException\u001b[39;00m:\n\u001b[1;32m   1255\u001b[0m     \u001b[38;5;28mself\u001b[39m\u001b[38;5;241m.\u001b[39mclose()\n",
      "File \u001b[0;32m/opt/homebrew/anaconda3/lib/python3.9/site-packages/pandas/io/parsers/c_parser_wrapper.py:225\u001b[0m, in \u001b[0;36mCParserWrapper.read\u001b[0;34m(self, nrows)\u001b[0m\n\u001b[1;32m    223\u001b[0m \u001b[38;5;28;01mtry\u001b[39;00m:\n\u001b[1;32m    224\u001b[0m     \u001b[38;5;28;01mif\u001b[39;00m \u001b[38;5;28mself\u001b[39m\u001b[38;5;241m.\u001b[39mlow_memory:\n\u001b[0;32m--> 225\u001b[0m         chunks \u001b[38;5;241m=\u001b[39m \u001b[38;5;28;43mself\u001b[39;49m\u001b[38;5;241;43m.\u001b[39;49m\u001b[43m_reader\u001b[49m\u001b[38;5;241;43m.\u001b[39;49m\u001b[43mread_low_memory\u001b[49m\u001b[43m(\u001b[49m\u001b[43mnrows\u001b[49m\u001b[43m)\u001b[49m\n\u001b[1;32m    226\u001b[0m         \u001b[38;5;66;03m# destructive to chunks\u001b[39;00m\n\u001b[1;32m    227\u001b[0m         data \u001b[38;5;241m=\u001b[39m _concatenate_chunks(chunks)\n",
      "File \u001b[0;32m/opt/homebrew/anaconda3/lib/python3.9/site-packages/pandas/_libs/parsers.pyx:805\u001b[0m, in \u001b[0;36mpandas._libs.parsers.TextReader.read_low_memory\u001b[0;34m()\u001b[0m\n",
      "File \u001b[0;32m/opt/homebrew/anaconda3/lib/python3.9/site-packages/pandas/_libs/parsers.pyx:861\u001b[0m, in \u001b[0;36mpandas._libs.parsers.TextReader._read_rows\u001b[0;34m()\u001b[0m\n",
      "File \u001b[0;32m/opt/homebrew/anaconda3/lib/python3.9/site-packages/pandas/_libs/parsers.pyx:847\u001b[0m, in \u001b[0;36mpandas._libs.parsers.TextReader._tokenize_rows\u001b[0;34m()\u001b[0m\n",
      "File \u001b[0;32m/opt/homebrew/anaconda3/lib/python3.9/site-packages/pandas/_libs/parsers.pyx:1960\u001b[0m, in \u001b[0;36mpandas._libs.parsers.raise_parser_error\u001b[0;34m()\u001b[0m\n",
      "\u001b[0;31mParserError\u001b[0m: Error tokenizing data. C error: Expected 1 fields in line 9, saw 3\n"
     ]
    }
   ],
   "source": [
    "### Select data to query\n",
    "apiKey = MY_API_KEY\n",
    "# Select year\n",
    "year = CURRENT_YEAR\n",
    "# Select geography\n",
    "state = TEXAS\n",
    "county = FORTBEND\n",
    "zipList = FtBendZips\n",
    "# Select census variables\n",
    "entireTable = False\n",
    "variables_toquery = [\n",
    "    'DP05_0005E','DP05_0001E','DP03_0062E',\n",
    "    'S1701_C02_001E','S1701_C01_001E',\n",
    "    'B14006_004E','B14006_005E','B14006_006E',\n",
    "    'B17020_001E','B17020_003E', 'B17020_004E'\n",
    "]\n",
    "\n",
    "DataRequest_ECE_Zips = fetchCensusZips(year, zipList, variables_toquery, entireTable, apiKey)\n",
    "DataRequest_ECE_Zips.head()"
   ]
  },
  {
   "cell_type": "code",
   "execution_count": null,
   "metadata": {},
   "outputs": [],
   "source": [
    "### Select data to query\n",
    "apiKey = MY_API_KEY\n",
    "# Select year\n",
    "year = CURRENT_YEAR\n",
    "# Select geography\n",
    "state = TEXAS\n",
    "county = FORTBEND\n",
    "tractList = ALL\n",
    "# Select census variables\n",
    "entireTable = False\n",
    "variables_toquery = [\n",
    "    'DP05_0005E','DP05_0001E','DP03_0062E',\n",
    "    'S1701_C02_001E','S1701_C01_001E',\n",
    "    'B14006_004E','B14006_005E','B14006_006E',\n",
    "    'B17020_001E','B17020_003E', 'B17020_004E'\n",
    "]\n",
    "\n",
    "DataRequest_ECE_Tracts = fetchCensusTracts(year, state, county, tractList, variables_toquery, entireTable, apiKey)\n",
    "DataRequest_ECE_Tracts.head()"
   ]
  },
  {
   "cell_type": "code",
   "execution_count": 37,
   "metadata": {},
   "outputs": [
    {
     "ename": "ParserError",
     "evalue": "Error tokenizing data. C error: Expected 1 fields in line 9, saw 3\n",
     "output_type": "error",
     "traceback": [
      "\u001b[0;31m---------------------------------------------------------------------------\u001b[0m",
      "\u001b[0;31mParserError\u001b[0m                               Traceback (most recent call last)",
      "Input \u001b[0;32mIn [37]\u001b[0m, in \u001b[0;36m<cell line: 15>\u001b[0;34m()\u001b[0m\n\u001b[1;32m     10\u001b[0m entireTable \u001b[38;5;241m=\u001b[39m \u001b[38;5;28;01mTrue\u001b[39;00m\n\u001b[1;32m     11\u001b[0m variables_toquery \u001b[38;5;241m=\u001b[39m [\n\u001b[1;32m     12\u001b[0m     \u001b[38;5;124m'\u001b[39m\u001b[38;5;124mDP05\u001b[39m\u001b[38;5;124m'\u001b[39m, \u001b[38;5;124m'\u001b[39m\u001b[38;5;124mDP03\u001b[39m\u001b[38;5;124m'\u001b[39m\n\u001b[1;32m     13\u001b[0m ]\n\u001b[0;32m---> 15\u001b[0m fullTables \u001b[38;5;241m=\u001b[39m \u001b[43mfetchCensusTracts\u001b[49m\u001b[43m(\u001b[49m\u001b[43myear\u001b[49m\u001b[43m,\u001b[49m\u001b[43m \u001b[49m\u001b[43mstate\u001b[49m\u001b[43m,\u001b[49m\u001b[43m \u001b[49m\u001b[43mcounty\u001b[49m\u001b[43m,\u001b[49m\u001b[43m \u001b[49m\u001b[43mtractList\u001b[49m\u001b[43m,\u001b[49m\u001b[43m \u001b[49m\u001b[43mvariables_toquery\u001b[49m\u001b[43m,\u001b[49m\u001b[43m \u001b[49m\u001b[43mentireTable\u001b[49m\u001b[43m,\u001b[49m\u001b[43m \u001b[49m\u001b[43mapiKey\u001b[49m\u001b[43m)\u001b[49m\n\u001b[1;32m     16\u001b[0m fullTables\u001b[38;5;241m.\u001b[39mhead()\n",
      "Input \u001b[0;32mIn [33]\u001b[0m, in \u001b[0;36mfetchCensusTracts\u001b[0;34m(year, state, county, tractList, variables_toquery, entireTable, apiKey)\u001b[0m\n\u001b[1;32m     16\u001b[0m url \u001b[38;5;241m=\u001b[39m \u001b[38;5;124mf\u001b[39m\u001b[38;5;124m'\u001b[39m\u001b[38;5;124mhttps://api.census.gov/data/\u001b[39m\u001b[38;5;132;01m{\u001b[39;00myear\u001b[38;5;132;01m}\u001b[39;00m\u001b[38;5;124m/acs/acs5\u001b[39m\u001b[38;5;132;01m{\u001b[39;00mtableType\u001b[38;5;132;01m}\u001b[39;00m\u001b[38;5;124m?key=\u001b[39m\u001b[38;5;132;01m{\u001b[39;00mapiKey\u001b[38;5;132;01m}\u001b[39;00m\u001b[38;5;124m&in=state:\u001b[39m\u001b[38;5;132;01m{\u001b[39;00mstate\u001b[38;5;132;01m}\u001b[39;00m\u001b[38;5;124m%20county:\u001b[39m\u001b[38;5;132;01m{\u001b[39;00mcounty\u001b[38;5;132;01m}\u001b[39;00m\u001b[38;5;124m&for=tract:\u001b[39m\u001b[38;5;132;01m{\u001b[39;00mtractList\u001b[38;5;132;01m}\u001b[39;00m\u001b[38;5;124m&get=\u001b[39m\u001b[38;5;132;01m{\u001b[39;00mtableVariables\u001b[38;5;132;01m}\u001b[39;00m\u001b[38;5;124m'\u001b[39m\n\u001b[1;32m     17\u001b[0m \u001b[38;5;66;03m# Parse the data returned from the census API\u001b[39;00m\n\u001b[0;32m---> 18\u001b[0m tableData \u001b[38;5;241m=\u001b[39m \u001b[43mparseCensus\u001b[49m\u001b[43m(\u001b[49m\u001b[43murl\u001b[49m\u001b[43m)\u001b[49m    \n\u001b[1;32m     19\u001b[0m \u001b[38;5;66;03m# Drop final column which is empty\u001b[39;00m\n\u001b[1;32m     20\u001b[0m tableData \u001b[38;5;241m=\u001b[39m tableData\u001b[38;5;241m.\u001b[39mdrop(tableData\u001b[38;5;241m.\u001b[39mcolumns[\u001b[38;5;241m-\u001b[39m\u001b[38;5;241m1\u001b[39m], axis\u001b[38;5;241m=\u001b[39m\u001b[38;5;241m1\u001b[39m)\n",
      "Input \u001b[0;32mIn [32]\u001b[0m, in \u001b[0;36mparseCensus\u001b[0;34m(url)\u001b[0m\n\u001b[1;32m     10\u001b[0m censusData \u001b[38;5;241m=\u001b[39m censusData\u001b[38;5;241m.\u001b[39mreplace(\u001b[38;5;124m\"\u001b[39m\u001b[38;5;124m]\u001b[39m\u001b[38;5;124m\"\u001b[39m, \u001b[38;5;124m\"\u001b[39m\u001b[38;5;124m\"\u001b[39m)\n\u001b[1;32m     12\u001b[0m \u001b[38;5;66;03m# Create dataframe from string data\u001b[39;00m\n\u001b[0;32m---> 13\u001b[0m censusData \u001b[38;5;241m=\u001b[39m \u001b[43mpd\u001b[49m\u001b[38;5;241;43m.\u001b[39;49m\u001b[43mread_csv\u001b[49m\u001b[43m(\u001b[49m\u001b[43mStringIO\u001b[49m\u001b[43m(\u001b[49m\u001b[43mcensusData\u001b[49m\u001b[43m)\u001b[49m\u001b[43m,\u001b[49m\u001b[43m \u001b[49m\u001b[43msep\u001b[49m\u001b[38;5;241;43m=\u001b[39;49m\u001b[38;5;124;43m\"\u001b[39;49m\u001b[38;5;124;43m,\u001b[39;49m\u001b[38;5;124;43m\"\u001b[39;49m\u001b[43m)\u001b[49m\n\u001b[1;32m     14\u001b[0m \u001b[38;5;28;01mreturn\u001b[39;00m censusData\n",
      "File \u001b[0;32m/opt/homebrew/anaconda3/lib/python3.9/site-packages/pandas/util/_decorators.py:311\u001b[0m, in \u001b[0;36mdeprecate_nonkeyword_arguments.<locals>.decorate.<locals>.wrapper\u001b[0;34m(*args, **kwargs)\u001b[0m\n\u001b[1;32m    305\u001b[0m \u001b[38;5;28;01mif\u001b[39;00m \u001b[38;5;28mlen\u001b[39m(args) \u001b[38;5;241m>\u001b[39m num_allow_args:\n\u001b[1;32m    306\u001b[0m     warnings\u001b[38;5;241m.\u001b[39mwarn(\n\u001b[1;32m    307\u001b[0m         msg\u001b[38;5;241m.\u001b[39mformat(arguments\u001b[38;5;241m=\u001b[39marguments),\n\u001b[1;32m    308\u001b[0m         \u001b[38;5;167;01mFutureWarning\u001b[39;00m,\n\u001b[1;32m    309\u001b[0m         stacklevel\u001b[38;5;241m=\u001b[39mstacklevel,\n\u001b[1;32m    310\u001b[0m     )\n\u001b[0;32m--> 311\u001b[0m \u001b[38;5;28;01mreturn\u001b[39;00m \u001b[43mfunc\u001b[49m\u001b[43m(\u001b[49m\u001b[38;5;241;43m*\u001b[39;49m\u001b[43margs\u001b[49m\u001b[43m,\u001b[49m\u001b[43m \u001b[49m\u001b[38;5;241;43m*\u001b[39;49m\u001b[38;5;241;43m*\u001b[39;49m\u001b[43mkwargs\u001b[49m\u001b[43m)\u001b[49m\n",
      "File \u001b[0;32m/opt/homebrew/anaconda3/lib/python3.9/site-packages/pandas/io/parsers/readers.py:678\u001b[0m, in \u001b[0;36mread_csv\u001b[0;34m(filepath_or_buffer, sep, delimiter, header, names, index_col, usecols, squeeze, prefix, mangle_dupe_cols, dtype, engine, converters, true_values, false_values, skipinitialspace, skiprows, skipfooter, nrows, na_values, keep_default_na, na_filter, verbose, skip_blank_lines, parse_dates, infer_datetime_format, keep_date_col, date_parser, dayfirst, cache_dates, iterator, chunksize, compression, thousands, decimal, lineterminator, quotechar, quoting, doublequote, escapechar, comment, encoding, encoding_errors, dialect, error_bad_lines, warn_bad_lines, on_bad_lines, delim_whitespace, low_memory, memory_map, float_precision, storage_options)\u001b[0m\n\u001b[1;32m    663\u001b[0m kwds_defaults \u001b[38;5;241m=\u001b[39m _refine_defaults_read(\n\u001b[1;32m    664\u001b[0m     dialect,\n\u001b[1;32m    665\u001b[0m     delimiter,\n\u001b[0;32m   (...)\u001b[0m\n\u001b[1;32m    674\u001b[0m     defaults\u001b[38;5;241m=\u001b[39m{\u001b[38;5;124m\"\u001b[39m\u001b[38;5;124mdelimiter\u001b[39m\u001b[38;5;124m\"\u001b[39m: \u001b[38;5;124m\"\u001b[39m\u001b[38;5;124m,\u001b[39m\u001b[38;5;124m\"\u001b[39m},\n\u001b[1;32m    675\u001b[0m )\n\u001b[1;32m    676\u001b[0m kwds\u001b[38;5;241m.\u001b[39mupdate(kwds_defaults)\n\u001b[0;32m--> 678\u001b[0m \u001b[38;5;28;01mreturn\u001b[39;00m \u001b[43m_read\u001b[49m\u001b[43m(\u001b[49m\u001b[43mfilepath_or_buffer\u001b[49m\u001b[43m,\u001b[49m\u001b[43m \u001b[49m\u001b[43mkwds\u001b[49m\u001b[43m)\u001b[49m\n",
      "File \u001b[0;32m/opt/homebrew/anaconda3/lib/python3.9/site-packages/pandas/io/parsers/readers.py:581\u001b[0m, in \u001b[0;36m_read\u001b[0;34m(filepath_or_buffer, kwds)\u001b[0m\n\u001b[1;32m    578\u001b[0m     \u001b[38;5;28;01mreturn\u001b[39;00m parser\n\u001b[1;32m    580\u001b[0m \u001b[38;5;28;01mwith\u001b[39;00m parser:\n\u001b[0;32m--> 581\u001b[0m     \u001b[38;5;28;01mreturn\u001b[39;00m \u001b[43mparser\u001b[49m\u001b[38;5;241;43m.\u001b[39;49m\u001b[43mread\u001b[49m\u001b[43m(\u001b[49m\u001b[43mnrows\u001b[49m\u001b[43m)\u001b[49m\n",
      "File \u001b[0;32m/opt/homebrew/anaconda3/lib/python3.9/site-packages/pandas/io/parsers/readers.py:1253\u001b[0m, in \u001b[0;36mTextFileReader.read\u001b[0;34m(self, nrows)\u001b[0m\n\u001b[1;32m   1251\u001b[0m nrows \u001b[38;5;241m=\u001b[39m validate_integer(\u001b[38;5;124m\"\u001b[39m\u001b[38;5;124mnrows\u001b[39m\u001b[38;5;124m\"\u001b[39m, nrows)\n\u001b[1;32m   1252\u001b[0m \u001b[38;5;28;01mtry\u001b[39;00m:\n\u001b[0;32m-> 1253\u001b[0m     index, columns, col_dict \u001b[38;5;241m=\u001b[39m \u001b[38;5;28;43mself\u001b[39;49m\u001b[38;5;241;43m.\u001b[39;49m\u001b[43m_engine\u001b[49m\u001b[38;5;241;43m.\u001b[39;49m\u001b[43mread\u001b[49m\u001b[43m(\u001b[49m\u001b[43mnrows\u001b[49m\u001b[43m)\u001b[49m\n\u001b[1;32m   1254\u001b[0m \u001b[38;5;28;01mexcept\u001b[39;00m \u001b[38;5;167;01mException\u001b[39;00m:\n\u001b[1;32m   1255\u001b[0m     \u001b[38;5;28mself\u001b[39m\u001b[38;5;241m.\u001b[39mclose()\n",
      "File \u001b[0;32m/opt/homebrew/anaconda3/lib/python3.9/site-packages/pandas/io/parsers/c_parser_wrapper.py:225\u001b[0m, in \u001b[0;36mCParserWrapper.read\u001b[0;34m(self, nrows)\u001b[0m\n\u001b[1;32m    223\u001b[0m \u001b[38;5;28;01mtry\u001b[39;00m:\n\u001b[1;32m    224\u001b[0m     \u001b[38;5;28;01mif\u001b[39;00m \u001b[38;5;28mself\u001b[39m\u001b[38;5;241m.\u001b[39mlow_memory:\n\u001b[0;32m--> 225\u001b[0m         chunks \u001b[38;5;241m=\u001b[39m \u001b[38;5;28;43mself\u001b[39;49m\u001b[38;5;241;43m.\u001b[39;49m\u001b[43m_reader\u001b[49m\u001b[38;5;241;43m.\u001b[39;49m\u001b[43mread_low_memory\u001b[49m\u001b[43m(\u001b[49m\u001b[43mnrows\u001b[49m\u001b[43m)\u001b[49m\n\u001b[1;32m    226\u001b[0m         \u001b[38;5;66;03m# destructive to chunks\u001b[39;00m\n\u001b[1;32m    227\u001b[0m         data \u001b[38;5;241m=\u001b[39m _concatenate_chunks(chunks)\n",
      "File \u001b[0;32m/opt/homebrew/anaconda3/lib/python3.9/site-packages/pandas/_libs/parsers.pyx:805\u001b[0m, in \u001b[0;36mpandas._libs.parsers.TextReader.read_low_memory\u001b[0;34m()\u001b[0m\n",
      "File \u001b[0;32m/opt/homebrew/anaconda3/lib/python3.9/site-packages/pandas/_libs/parsers.pyx:861\u001b[0m, in \u001b[0;36mpandas._libs.parsers.TextReader._read_rows\u001b[0;34m()\u001b[0m\n",
      "File \u001b[0;32m/opt/homebrew/anaconda3/lib/python3.9/site-packages/pandas/_libs/parsers.pyx:847\u001b[0m, in \u001b[0;36mpandas._libs.parsers.TextReader._tokenize_rows\u001b[0;34m()\u001b[0m\n",
      "File \u001b[0;32m/opt/homebrew/anaconda3/lib/python3.9/site-packages/pandas/_libs/parsers.pyx:1960\u001b[0m, in \u001b[0;36mpandas._libs.parsers.raise_parser_error\u001b[0;34m()\u001b[0m\n",
      "\u001b[0;31mParserError\u001b[0m: Error tokenizing data. C error: Expected 1 fields in line 9, saw 3\n"
     ]
    }
   ],
   "source": [
    "### Select data to query\n",
    "apiKey = MY_API_KEY\n",
    "# Select year\n",
    "year = CURRENT_YEAR\n",
    "# Select geography\n",
    "state = TEXAS\n",
    "county = FORTBEND\n",
    "tractList = ALL\n",
    "# Select census variables\n",
    "entireTable = True\n",
    "variables_toquery = [\n",
    "    'DP05', 'DP03'\n",
    "]\n",
    "\n",
    "fullTables = fetchCensusTracts(year, state, county, tractList, variables_toquery, entireTable, apiKey)\n",
    "fullTables.head()"
   ]
  },
  {
   "cell_type": "markdown",
   "metadata": {},
   "source": [
    "# Print to csv"
   ]
  },
  {
   "cell_type": "code",
   "execution_count": 38,
   "metadata": {},
   "outputs": [
    {
     "ename": "NameError",
     "evalue": "name 'DataRequest_ECE' is not defined",
     "output_type": "error",
     "traceback": [
      "\u001b[0;31m---------------------------------------------------------------------------\u001b[0m",
      "\u001b[0;31mNameError\u001b[0m                                 Traceback (most recent call last)",
      "Input \u001b[0;32mIn [38]\u001b[0m, in \u001b[0;36m<cell line: 1>\u001b[0;34m()\u001b[0m\n\u001b[0;32m----> 1\u001b[0m \u001b[43mDataRequest_ECE\u001b[49m\u001b[38;5;241m.\u001b[39mto_csv(\u001b[38;5;124m\"\u001b[39m\u001b[38;5;124mdata/Output.csv\u001b[39m\u001b[38;5;124m\"\u001b[39m)\n",
      "\u001b[0;31mNameError\u001b[0m: name 'DataRequest_ECE' is not defined"
     ]
    }
   ],
   "source": [
    "DataRequest_ECE.to_csv(\"data/Output.csv\")"
   ]
  },
  {
   "cell_type": "code",
   "execution_count": null,
   "metadata": {},
   "outputs": [],
   "source": []
  }
 ],
 "metadata": {
  "kernelspec": {
   "display_name": "Python 3 (ipykernel)",
   "language": "python",
   "name": "python3"
  },
  "language_info": {
   "codemirror_mode": {
    "name": "ipython",
    "version": 3
   },
   "file_extension": ".py",
   "mimetype": "text/x-python",
   "name": "python",
   "nbconvert_exporter": "python",
   "pygments_lexer": "ipython3",
   "version": "3.9.13"
  },
  "vscode": {
   "interpreter": {
    "hash": "22857fc3329db8a2120715df052c446feb81728e8daa7433c39a4ae914ffd76b"
   }
  }
 },
 "nbformat": 4,
 "nbformat_minor": 2
}
